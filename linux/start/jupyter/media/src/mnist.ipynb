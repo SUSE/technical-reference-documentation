{
 "cells": [
  {
   "cell_type": "markdown",
   "id": "d908d7ae-220c-4e03-ad9a-f47ec85bc3ff",
   "metadata": {},
   "source": [
    "# MNIST example\n",
    "Ch.2\n"
   ]
  },
  {
   "cell_type": "code",
   "execution_count": 63,
   "id": "8b8b7a39-114d-4205-806e-b51bc0f245c2",
   "metadata": {},
   "outputs": [],
   "source": [
    "%matplotlib inline"
   ]
  },
  {
   "cell_type": "code",
   "execution_count": 89,
   "id": "f7484c1d-4949-4db9-bd18-e9a1cc3be67c",
   "metadata": {},
   "outputs": [],
   "source": [
    "# load training and testing data from MNIST\n",
    "from tensorflow.keras.datasets import mnist\n",
    "(train_images, train_labels), (test_images, test_labels) = mnist.load_data()"
   ]
  },
  {
   "cell_type": "code",
   "execution_count": 100,
   "id": "6ad5c634-e536-4287-9eb4-3b3ee4d6e74a",
   "metadata": {},
   "outputs": [
    {
     "name": "stdout",
     "output_type": "stream",
     "text": [
      "Training set Images:\n",
      "  Shape: (60000, 28, 28)\n",
      "  Data types: (dtype('uint8'), dtype('uint8'), dtype('uint8'))\n",
      "\n",
      "Training set Labels:\n",
      "  Number: 60000\n",
      "  Data type: uint8\n",
      "\n",
      "Fourth image in training set:\n"
     ]
    },
    {
     "data": {
      "image/png": "[encoded data removed]",
      "text/plain": [
       "<Figure size 640x480 with 1 Axes>"
      ]
     },
     "metadata": {},
     "output_type": "display_data"
    }
   ],
   "source": [
    "# explore data\n",
    "import matplotlib.pyplot as plt\n",
    "print('Training set Images:')\n",
    "print(f'  Shape: {train_images.shape}')\n",
    "print(f'  Data types: {(train_images[0].dtype, train_images[1].dtype, train_images[2].dtype)}\\n')\n",
    "print(f'Training set Labels:')\n",
    "print(f'  Number: {len(train_labels)}')\n",
    "print(f'  Data type: {train_labels[0].dtype}\\n')\n",
    "print(f'Fourth image in training set:')\n",
    "plt.imshow(train_images[4], cmap=plt.cm.binary)\n",
    "plt.show()"
   ]
  },
  {
   "cell_type": "code",
   "execution_count": 101,
   "id": "d9fb60d8-ca8e-46d3-9c4f-ace8b434affe",
   "metadata": {},
   "outputs": [],
   "source": [
    "# define network architecture\n",
    "from tensorflow import keras\n",
    "from tensorflow.keras import layers\n",
    "model = keras.Sequential([\n",
    "    layers.Dense(512, activation=\"relu\"),\n",
    "    layers.Dense(10, activation=\"softmax\")\n",
    "])"
   ]
  },
  {
   "cell_type": "code",
   "execution_count": 102,
   "id": "53ec76a1-a9e5-45cd-bd00-6f3923270bdc",
   "metadata": {},
   "outputs": [],
   "source": [
    "# perform compilation step\n",
    "model.compile(optimizer=\"rmsprop\",\n",
    "              loss=\"sparse_categorical_crossentropy\",\n",
    "              metrics=[\"accuracy\"])"
   ]
  },
  {
   "cell_type": "code",
   "execution_count": 122,
   "id": "cbac1847-91c8-4b90-8eed-b299b0280a86",
   "metadata": {},
   "outputs": [],
   "source": [
    "# Prepare the image data\n",
    "train_images = train_images.reshape((60000, 28 * 28))\n",
    "train_images = train_images.astype(\"float32\") / 255\n",
    "test_images = test_images.reshape((10000, 28 * 28))\n",
    "test_images = test_images.astype(\"float32\") / 255"
   ]
  },
  {
   "cell_type": "code",
   "execution_count": 123,
   "id": "316968d8-21ea-4efc-bd3b-bc8a8ddb179a",
   "metadata": {},
   "outputs": [
    {
     "name": "stdout",
     "output_type": "stream",
     "text": [
      "Epoch 1/5\n",
      "469/469 [==============================] - 2s 3ms/step - loss: 0.2909 - accuracy: 0.9158\n",
      "Epoch 2/5\n",
      "469/469 [==============================] - 2s 3ms/step - loss: 0.2740 - accuracy: 0.9210\n",
      "Epoch 3/5\n",
      "469/469 [==============================] - 2s 3ms/step - loss: 0.2591 - accuracy: 0.9244\n",
      "Epoch 4/5\n",
      "469/469 [==============================] - 2s 3ms/step - loss: 0.2458 - accuracy: 0.9284\n",
      "Epoch 5/5\n",
      "469/469 [==============================] - 2s 3ms/step - loss: 0.2336 - accuracy: 0.9318\n"
     ]
    },
    {
     "data": {
      "text/plain": [
       "<keras.callbacks.History at 0x7fa992a86350>"
      ]
     },
     "execution_count": 123,
     "metadata": {},
     "output_type": "execute_result"
    }
   ],
   "source": [
    "# fit the model\n",
    "model.fit(train_images, train_labels, epochs=5, batch_size=128)"
   ]
  },
  {
   "cell_type": "code",
   "execution_count": 124,
   "id": "4fc07cf2-9c84-4479-ac7d-52c8dcf4351f",
   "metadata": {},
   "outputs": [
    {
     "name": "stdout",
     "output_type": "stream",
     "text": [
      "1/1 [==============================] - 0s 15ms/step\n"
     ]
    },
    {
     "data": {
      "text/plain": [
       "array([4.7158348e-05, 1.5087720e-08, 2.0205145e-04, 1.5479388e-03,\n",
       "       1.2734509e-07, 6.6780332e-05, 1.0749783e-09, 9.9789017e-01,\n",
       "       5.8655519e-06, 2.3975951e-04], dtype=float32)"
      ]
     },
     "execution_count": 124,
     "metadata": {},
     "output_type": "execute_result"
    }
   ],
   "source": [
    "# test the model by making predictions with the first ten images in the test data\n",
    "test_digits = test_images[0:10]\n",
    "predictions = model.predict(test_digits)\n",
    "# pick one of the images to check (value must be in the range 0 to 9)\n",
    "check_image=0\n",
    "# show the probability distribution of the digit predictions for this image\n",
    "predictions[check_image]"
   ]
  },
  {
   "cell_type": "code",
   "execution_count": 125,
   "id": "1360e249-d200-432a-9f19-bfb9a1715525",
   "metadata": {},
   "outputs": [
    {
     "name": "stdout",
     "output_type": "stream",
     "text": [
      "The highest probability is 0\n",
      "This corresponds to the digit 7\n",
      "\n"
     ]
    }
   ],
   "source": [
    "# Identify highest probability\n",
    "import numpy as np\n",
    "max_probability = np.amax(predictions[check_image])\n",
    "print('The highest probability is %d' % max_probability)\n",
    "print('This corresponds to the digit %d\\n' % np.where(predictions[check_image] == max_probability))"
   ]
  },
  {
   "cell_type": "code",
   "execution_count": 126,
   "id": "779200c0-bfc0-4282-8538-abe440cfac81",
   "metadata": {},
   "outputs": [
    {
     "name": "stdout",
     "output_type": "stream",
     "text": [
      "313/313 [==============================] - 0s 1ms/step - loss: 0.2276 - accuracy: 0.9341\n",
      "Accuracy: 0.9340999722480774\n",
      "\n"
     ]
    }
   ],
   "source": [
    "# evaluate model\n",
    "test_loss, test_acc = model.evaluate(test_images, test_labels)\n",
    "print(f'Accuracy: {test_acc}\\n')"
   ]
  },
  {
   "cell_type": "code",
   "execution_count": 128,
   "id": "0dba6e06-934c-4d6c-9612-8f9a6b171859",
   "metadata": {},
   "outputs": [
    {
     "data": {
      "image/png": "[encoded data removed]",
      "text/plain": [
       "<Figure size 640x480 with 1 Axes>"
      ]
     },
     "metadata": {},
     "output_type": "display_data"
    }
   ],
   "source": [
    "# display image\n",
    "import matplotlib.pyplot as plt\n",
    "digit = train_images[check_image].reshape(28,28)\n",
    "plt.imshow(digit, cmap=plt.cm.binary)\n",
    "plt.show()"
   ]
  },
  {
   "cell_type": "code",
   "execution_count": null,
   "id": "1599e68b-0ac4-4d84-8af2-fa6be9a5cee6",
   "metadata": {},
   "outputs": [],
   "source": []
  }
 ],
 "metadata": {
  "kernelspec": {
   "display_name": "Python 3 (ipykernel)",
   "language": "python",
   "name": "python3"
  },
  "language_info": {
   "codemirror_mode": {
    "name": "ipython",
    "version": 3
   },
   "file_extension": ".py",
   "mimetype": "text/x-python",
   "name": "python",
   "nbconvert_exporter": "python",
   "pygments_lexer": "ipython3",
   "version": "3.10.6"
  }
 },
 "nbformat": 4,
 "nbformat_minor": 5
}
